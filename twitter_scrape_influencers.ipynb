{
 "cells": [
  {
   "cell_type": "code",
   "execution_count": null,
   "metadata": {
    "collapsed": false,
    "scrolled": true
   },
   "outputs": [],
   "source": [
    "%load_ext sql\n",
    "%sql sqlite:///followers.db"
   ]
  },
  {
   "cell_type": "code",
   "execution_count": 53,
   "metadata": {
    "collapsed": false
   },
   "outputs": [],
   "source": [
    "import tweepy\n",
    "import time\n",
    "\n",
    "auth = tweepy.OAuthHandler(consumer_key='lzrW1cKCWiQByFkXMU29Z7g6b',\n",
    "                           consumer_secret='Hh6gGSb3YI3QiAeAU2NwWY4CvQdVstv7R8MXTufzejh1RtlMYS')\n",
    "#auth = tweepy.AppAuthHandler(consumer_key='lzrW1cKCWiQByFkXMU29Z7g6b',\n",
    "#                             consumer_secret='Hh6gGSb3YI3QiAeAU2NwWY4CvQdVstv7R8MXTufzejh1RtlMYS')\n",
    "auth.set_access_token('4263905652-jXSdcPLRGXeuvznK56hnKkL0Lna0xR7AEX2NZuZ',\n",
    "                      'Kpacok4p2Alr1oPki8oSOCOsytpFV8kZzUNar6GW8N6rf')\n",
    "api = tweepy.API(auth, wait_on_rate_limit=True, wait_on_rate_limit_notify=True)"
   ]
  },
  {
   "cell_type": "code",
   "execution_count": 63,
   "metadata": {
    "collapsed": false,
    "scrolled": false
   },
   "outputs": [
    {
     "name": "stdout",
     "output_type": "stream",
     "text": [
      "Done.\n",
      "[{u'message': u'Could not determine source user.', u'code': 163}]\n",
      "[{u'message': u'Could not determine source user.', u'code': 163}]\n",
      "[{u'message': u'Could not determine source user.', u'code': 163}]\n",
      "[{u'message': u'Could not determine source user.', u'code': 163}]\n",
      "[{u'message': u'Could not determine source user.', u'code': 163}]\n",
      "[{u'message': u'Could not determine source user.', u'code': 163}]\n",
      "[{u'message': u'Could not determine source user.', u'code': 163}]\n",
      "[{u'message': u'Could not determine source user.', u'code': 163}]\n",
      "[{u'message': u'Could not determine source user.', u'code': 163}]\n",
      "[{u'message': u'Could not determine source user.', u'code': 163}]\n",
      "[{u'message': u'Could not determine source user.', u'code': 163}]\n",
      "[{u'message': u'Could not determine source user.', u'code': 163}]\n",
      "[{u'message': u'Could not determine source user.', u'code': 163}]\n",
      "[{u'message': u'Could not determine source user.', u'code': 163}]\n",
      "[{u'message': u'Could not determine source user.', u'code': 163}]\n"
     ]
    }
   ],
   "source": [
    "## Look up influencer relationships for each follower\n",
    "#influencers = ['@taylorswift13', '@espn', '@BillGates', '@Pontifex', '@BarackObama', '@KimKardashian', '@cnnbrk', '@jimmyfallon', '@Cristiano', '@LilTunechi', '@NASA', @Oprah']\n",
    "influencer = '@Oprah'\n",
    "followers = %sql SELECT UserID FROM Users WHERE ID <= 10000 AND Verified <> -1 AND UserID NOT IN (SELECT FollowerID FROM Influencers WHERE InfluencerName == :influencer);\n",
    "for follower in followers:    \n",
    "    followerID = follower[0]\n",
    "    \n",
    "    # Check for influencers\n",
    "    try:\n",
    "        following = api.show_friendship(source_id=followerID, target_screen_name=influencer)[0].following\n",
    "    except tweepy.TweepError as e:\n",
    "        print e\n",
    "        continue\n",
    "        \n",
    "    print time.strftime(\"%m/%d %H:%M:%S\"), 'followerID =', followerID\n",
    "        \n",
    "    try:\n",
    "        %sql INSERT INTO Influencers VALUES (:followerID, :influencer, :following);\n",
    "    except:\n",
    "        continue"
   ]
  },
  {
   "cell_type": "code",
   "execution_count": null,
   "metadata": {
    "collapsed": true
   },
   "outputs": [],
   "source": []
  }
 ],
 "metadata": {
  "kernelspec": {
   "display_name": "Python 2",
   "language": "python",
   "name": "python2"
  },
  "language_info": {
   "codemirror_mode": {
    "name": "ipython",
    "version": 2
   },
   "file_extension": ".py",
   "mimetype": "text/x-python",
   "name": "python",
   "nbconvert_exporter": "python",
   "pygments_lexer": "ipython2",
   "version": "2.7.10"
  }
 },
 "nbformat": 4,
 "nbformat_minor": 0
}
