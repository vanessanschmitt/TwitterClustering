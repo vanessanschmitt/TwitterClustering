{
 "cells": [
  {
   "cell_type": "code",
   "execution_count": null,
   "metadata": {
    "collapsed": false,
    "scrolled": true
   },
   "outputs": [],
   "source": [
    "%load_ext sql\n",
    "%sql sqlite:///followers.db"
   ]
  },
  {
   "cell_type": "code",
   "execution_count": null,
   "metadata": {
    "collapsed": false
   },
   "outputs": [],
   "source": [
    "%%sql\n",
    "CREATE TABLE IF NOT EXISTS Users (ID INTEGER PRIMARY KEY AUTOINCREMENT, UserID INT UNIQUE NOT NULL, StatusesCount INT NOT NULL, FollowersCount INT NOT NULL, FollowingCount INT NOT NULL, Verified INT NOT NULL, Language TEXT NOT NULL, UtcOffset INT);\n",
    "CREATE TABLE IF NOT EXISTS Influencers (FollowerID INT, InfluencerName TEXT, Following INT, PRIMARY KEY(FollowerID, InfluencerName), FOREIGN KEY(FollowerID) REFERENCES Users(UserID));"
   ]
  },
  {
   "cell_type": "code",
   "execution_count": 3,
   "metadata": {
    "collapsed": false
   },
   "outputs": [],
   "source": [
    "import tweepy\n",
    "import time\n",
    "\n",
    "auth = tweepy.OAuthHandler(consumer_key='lzrW1cKCWiQByFkXMU29Z7g6b',\n",
    "                          consumer_secret='Hh6gGSb3YI3QiAeAU2NwWY4CvQdVstv7R8MXTufzejh1RtlMYS')\n",
    "auth.set_access_token('4263905652-jXSdcPLRGXeuvznK56hnKkL0Lna0xR7AEX2NZuZ',\n",
    "                      'Kpacok4p2Alr1oPki8oSOCOsytpFV8kZzUNar6GW8N6rf')\n",
    "api = tweepy.API(auth, wait_on_rate_limit=True)"
   ]
  },
  {
   "cell_type": "code",
   "execution_count": null,
   "metadata": {
    "collapsed": false,
    "scrolled": true
   },
   "outputs": [],
   "source": [
    "## Gather follower IDs for company\n",
    "company = '@Nike'\n",
    "pages = []\n",
    "for page in tweepy.Cursor(api.followers_ids, id=company).pages(20):\n",
    "    pages.extend(page)"
   ]
  },
  {
   "cell_type": "code",
   "execution_count": null,
   "metadata": {
    "collapsed": false
   },
   "outputs": [],
   "source": [
    "## Insert follower IDs into Users table\n",
    "for userID in pages:\n",
    "    try:\n",
    "        statuses_count = -1\n",
    "        followers_count = -1\n",
    "        following_count = -1\n",
    "        verified = -1\n",
    "        language = ''\n",
    "        utc_offset = -1\n",
    "        %sql INSERT INTO Users (UserID, StatusesCount, FollowersCount, FollowingCount, Verified, Language, UtcOffset) VALUES (:userID, :statuses_count, :followers_count, :following_count, :verified, :language, :utc_offset);\n",
    "    except:\n",
    "        continue"
   ]
  },
  {
   "cell_type": "code",
   "execution_count": null,
   "metadata": {
    "collapsed": false,
    "scrolled": true
   },
   "outputs": [],
   "source": [
    "## Look up follower information for each follower\n",
    "kNumUsersPerRequest = 99\n",
    "followerIDs = %sql SELECT UserID FROM Users WHERE ID <= 10000 AND Verified == -1;\n",
    "followerIDs = [followerID[0] for followerID in followerIDs]\n",
    "i = 0\n",
    "while i < len(followerIDs):\n",
    "    try:\n",
    "        followers = api.lookup_users(user_ids=followerIDs[i : (i + min(kNumUsersPerRequest, len(followerIDs) - i))])\n",
    "        print time.strftime(\"*** %m/%d %H:%M:%S\"), 'users =', i, 'through', (i + min(kNumUsersPerRequest, len(followerIDs) - i))\n",
    "        i += kNumUsersPerRequest\n",
    "    except tweepy.TweepError:\n",
    "        i += kNumUsersPerRequest\n",
    "        continue\n",
    "                \n",
    "    for follower in followers:\n",
    "        followerID = follower.id\n",
    "        print time.strftime(\"%m/%d %H:%M:%S\"), 'followerID =', followerID\n",
    "\n",
    "        statuses_count = follower.statuses_count\n",
    "        followers_count = follower.followers_count\n",
    "        following_count = follower.friends_count\n",
    "        verified = follower.verified\n",
    "        language = follower.lang\n",
    "        utc_offset = follower.utc_offset\n",
    "        %sql UPDATE Users SET StatusesCount = :statuses_count, FollowersCount = :followers_count, FollowingCount = :following_count, Verified = :verified, Language = :language, UtcOffset = :utc_offset WHERE UserID == :followerID;"
   ]
  },
  {
   "cell_type": "code",
   "execution_count": null,
   "metadata": {
    "collapsed": true
   },
   "outputs": [],
   "source": []
  }
 ],
 "metadata": {
  "kernelspec": {
   "display_name": "Python 2",
   "language": "python",
   "name": "python2"
  },
  "language_info": {
   "codemirror_mode": {
    "name": "ipython",
    "version": 2
   },
   "file_extension": ".py",
   "mimetype": "text/x-python",
   "name": "python",
   "nbconvert_exporter": "python",
   "pygments_lexer": "ipython2",
   "version": "2.7.10"
  }
 },
 "nbformat": 4,
 "nbformat_minor": 0
}
